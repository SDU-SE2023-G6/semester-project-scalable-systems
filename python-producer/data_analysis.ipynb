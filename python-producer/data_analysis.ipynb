{
 "cells": [
  {
   "cell_type": "code",
   "execution_count": 3,
   "metadata": {
    "collapsed": true
   },
   "outputs": [
    {
     "data": {
      "text/html": [
       "<div>\n",
       "<style scoped>\n",
       "    .dataframe tbody tr th:only-of-type {\n",
       "        vertical-align: middle;\n",
       "    }\n",
       "\n",
       "    .dataframe tbody tr th {\n",
       "        vertical-align: top;\n",
       "    }\n",
       "\n",
       "    .dataframe thead th {\n",
       "        text-align: right;\n",
       "    }\n",
       "</style>\n",
       "<table border=\"1\" class=\"dataframe\">\n",
       "  <thead>\n",
       "    <tr style=\"text-align: right;\">\n",
       "      <th></th>\n",
       "      <th>Timestamp</th>\n",
       "      <th>Open</th>\n",
       "      <th>High</th>\n",
       "      <th>Low</th>\n",
       "      <th>Close</th>\n",
       "      <th>Volume_(BTC)</th>\n",
       "      <th>Volume_(Currency)</th>\n",
       "      <th>Weighted_Price</th>\n",
       "    </tr>\n",
       "  </thead>\n",
       "  <tbody>\n",
       "    <tr>\n",
       "      <th>0</th>\n",
       "      <td>1325317920</td>\n",
       "      <td>4.39</td>\n",
       "      <td>4.39</td>\n",
       "      <td>4.39</td>\n",
       "      <td>4.39</td>\n",
       "      <td>0.455581</td>\n",
       "      <td>2.0</td>\n",
       "      <td>4.39</td>\n",
       "    </tr>\n",
       "    <tr>\n",
       "      <th>1</th>\n",
       "      <td>1325317980</td>\n",
       "      <td>NaN</td>\n",
       "      <td>NaN</td>\n",
       "      <td>NaN</td>\n",
       "      <td>NaN</td>\n",
       "      <td>NaN</td>\n",
       "      <td>NaN</td>\n",
       "      <td>NaN</td>\n",
       "    </tr>\n",
       "    <tr>\n",
       "      <th>2</th>\n",
       "      <td>1325318040</td>\n",
       "      <td>NaN</td>\n",
       "      <td>NaN</td>\n",
       "      <td>NaN</td>\n",
       "      <td>NaN</td>\n",
       "      <td>NaN</td>\n",
       "      <td>NaN</td>\n",
       "      <td>NaN</td>\n",
       "    </tr>\n",
       "    <tr>\n",
       "      <th>3</th>\n",
       "      <td>1325318100</td>\n",
       "      <td>NaN</td>\n",
       "      <td>NaN</td>\n",
       "      <td>NaN</td>\n",
       "      <td>NaN</td>\n",
       "      <td>NaN</td>\n",
       "      <td>NaN</td>\n",
       "      <td>NaN</td>\n",
       "    </tr>\n",
       "    <tr>\n",
       "      <th>4</th>\n",
       "      <td>1325318160</td>\n",
       "      <td>NaN</td>\n",
       "      <td>NaN</td>\n",
       "      <td>NaN</td>\n",
       "      <td>NaN</td>\n",
       "      <td>NaN</td>\n",
       "      <td>NaN</td>\n",
       "      <td>NaN</td>\n",
       "    </tr>\n",
       "  </tbody>\n",
       "</table>\n",
       "</div>"
      ],
      "text/plain": [
       "    Timestamp  Open  High   Low  Close  Volume_(BTC)  Volume_(Currency)  \\\n",
       "0  1325317920  4.39  4.39  4.39   4.39      0.455581                2.0   \n",
       "1  1325317980   NaN   NaN   NaN    NaN           NaN                NaN   \n",
       "2  1325318040   NaN   NaN   NaN    NaN           NaN                NaN   \n",
       "3  1325318100   NaN   NaN   NaN    NaN           NaN                NaN   \n",
       "4  1325318160   NaN   NaN   NaN    NaN           NaN                NaN   \n",
       "\n",
       "   Weighted_Price  \n",
       "0            4.39  \n",
       "1             NaN  \n",
       "2             NaN  \n",
       "3             NaN  \n",
       "4             NaN  "
      ]
     },
     "execution_count": 3,
     "metadata": {},
     "output_type": "execute_result"
    }
   ],
   "source": [
    "import pandas as pd\n",
    "\n",
    "btc_file_path = './btc_raw.csv'\n",
    "df_btc = pd.read_csv(btc_file_path)\n",
    "\n",
    "df_btc.head()"
   ]
  },
  {
   "cell_type": "code",
   "execution_count": 4,
   "metadata": {
    "collapsed": false
   },
   "outputs": [
    {
     "name": "stderr",
     "output_type": "stream",
     "text": [
      "C:\\Users\\Tom Bourjala\\AppData\\Local\\Temp\\ipykernel_11624\\1926961807.py:2: DtypeWarning: Columns (0,1,2,3,4,8) have mixed types. Specify dtype option on import or set low_memory=False.\n",
      "  df_tweet = pd.read_csv(tweet_file_path, encoding='utf-8', sep=';')\n"
     ]
    },
    {
     "data": {
      "text/html": [
       "<div>\n",
       "<style scoped>\n",
       "    .dataframe tbody tr th:only-of-type {\n",
       "        vertical-align: middle;\n",
       "    }\n",
       "\n",
       "    .dataframe tbody tr th {\n",
       "        vertical-align: top;\n",
       "    }\n",
       "\n",
       "    .dataframe thead th {\n",
       "        text-align: right;\n",
       "    }\n",
       "</style>\n",
       "<table border=\"1\" class=\"dataframe\">\n",
       "  <thead>\n",
       "    <tr style=\"text-align: right;\">\n",
       "      <th></th>\n",
       "      <th>id</th>\n",
       "      <th>user</th>\n",
       "      <th>fullname</th>\n",
       "      <th>url</th>\n",
       "      <th>timestamp</th>\n",
       "      <th>replies</th>\n",
       "      <th>likes</th>\n",
       "      <th>retweets</th>\n",
       "      <th>text</th>\n",
       "    </tr>\n",
       "  </thead>\n",
       "  <tbody>\n",
       "    <tr>\n",
       "      <th>0</th>\n",
       "      <td>1132977055300300800</td>\n",
       "      <td>KamdemAbdiel</td>\n",
       "      <td>Abdiel kamdem</td>\n",
       "      <td>NaN</td>\n",
       "      <td>2019-05-27 11:49:14+00</td>\n",
       "      <td>0.0</td>\n",
       "      <td>0.0</td>\n",
       "      <td>0.0</td>\n",
       "      <td>È appena uscito un nuovo video! LES CRYPTOMONN...</td>\n",
       "    </tr>\n",
       "    <tr>\n",
       "      <th>1</th>\n",
       "      <td>1132977073402736640</td>\n",
       "      <td>bitcointe</td>\n",
       "      <td>Bitcointe</td>\n",
       "      <td>NaN</td>\n",
       "      <td>2019-05-27 11:49:18+00</td>\n",
       "      <td>0.0</td>\n",
       "      <td>0.0</td>\n",
       "      <td>0.0</td>\n",
       "      <td>Cardano: Digitize Currencies; EOS https://t.co...</td>\n",
       "    </tr>\n",
       "    <tr>\n",
       "      <th>2</th>\n",
       "      <td>1132977023893139456</td>\n",
       "      <td>3eyedbran</td>\n",
       "      <td>Bran - 3 Eyed Raven</td>\n",
       "      <td>NaN</td>\n",
       "      <td>2019-05-27 11:49:06+00</td>\n",
       "      <td>0.0</td>\n",
       "      <td>2.0</td>\n",
       "      <td>1.0</td>\n",
       "      <td>Another Test tweet that wasn't caught in the s...</td>\n",
       "    </tr>\n",
       "    <tr>\n",
       "      <th>3</th>\n",
       "      <td>1132977089089556481</td>\n",
       "      <td>DetroitCrypto</td>\n",
       "      <td>J. Scardina</td>\n",
       "      <td>NaN</td>\n",
       "      <td>2019-05-27 11:49:22+00</td>\n",
       "      <td>0.0</td>\n",
       "      <td>0.0</td>\n",
       "      <td>0.0</td>\n",
       "      <td>Current Crypto Prices! \\n\\nBTC: $8721.99 USD\\n...</td>\n",
       "    </tr>\n",
       "    <tr>\n",
       "      <th>4</th>\n",
       "      <td>1132977092340191232</td>\n",
       "      <td>mmursaleen72</td>\n",
       "      <td>Muhammad Mursaleen</td>\n",
       "      <td>NaN</td>\n",
       "      <td>2019-05-27 11:49:23+00</td>\n",
       "      <td>0.0</td>\n",
       "      <td>0.0</td>\n",
       "      <td>0.0</td>\n",
       "      <td>Spiv (Nosar Baz): BITCOIN Is An Asset &amp;amp; NO...</td>\n",
       "    </tr>\n",
       "  </tbody>\n",
       "</table>\n",
       "</div>"
      ],
      "text/plain": [
       "                    id           user             fullname  url  \\\n",
       "0  1132977055300300800   KamdemAbdiel        Abdiel kamdem  NaN   \n",
       "1  1132977073402736640      bitcointe            Bitcointe  NaN   \n",
       "2  1132977023893139456      3eyedbran  Bran - 3 Eyed Raven  NaN   \n",
       "3  1132977089089556481  DetroitCrypto          J. Scardina  NaN   \n",
       "4  1132977092340191232   mmursaleen72   Muhammad Mursaleen  NaN   \n",
       "\n",
       "                timestamp  replies  likes  retweets  \\\n",
       "0  2019-05-27 11:49:14+00      0.0    0.0       0.0   \n",
       "1  2019-05-27 11:49:18+00      0.0    0.0       0.0   \n",
       "2  2019-05-27 11:49:06+00      0.0    2.0       1.0   \n",
       "3  2019-05-27 11:49:22+00      0.0    0.0       0.0   \n",
       "4  2019-05-27 11:49:23+00      0.0    0.0       0.0   \n",
       "\n",
       "                                                text  \n",
       "0  È appena uscito un nuovo video! LES CRYPTOMONN...  \n",
       "1  Cardano: Digitize Currencies; EOS https://t.co...  \n",
       "2  Another Test tweet that wasn't caught in the s...  \n",
       "3  Current Crypto Prices! \\n\\nBTC: $8721.99 USD\\n...  \n",
       "4  Spiv (Nosar Baz): BITCOIN Is An Asset &amp; NO...  "
      ]
     },
     "execution_count": 4,
     "metadata": {},
     "output_type": "execute_result"
    }
   ],
   "source": [
    "tweet_file_path = './tweets_raw.csv'\n",
    "df_tweet = pd.read_csv(tweet_file_path, encoding='utf-8', sep=';')\n",
    "\n",
    "df_tweet.head()"
   ]
  },
  {
   "cell_type": "code",
   "execution_count": 5,
   "metadata": {
    "collapsed": false
   },
   "outputs": [
    {
     "name": "stdout",
     "output_type": "stream",
     "text": [
      "2011-12-31 07:52:00 2021-03-31 00:00:00\n"
     ]
    }
   ],
   "source": [
    "btc_time = pd.to_datetime(df_btc['Timestamp'], unit='s')\n",
    "\n",
    "first_date_btc = btc_time.min()\n",
    "last_date_btc = btc_time.max()\n",
    "print(first_date_btc, last_date_btc)"
   ]
  },
  {
   "cell_type": "code",
   "execution_count": 6,
   "metadata": {
    "collapsed": false
   },
   "outputs": [],
   "source": [
    "df_tweet_time = pd.to_datetime(df_tweet['timestamp'], errors='coerce')"
   ]
  },
  {
   "cell_type": "code",
   "execution_count": 7,
   "metadata": {
    "collapsed": false
   },
   "outputs": [],
   "source": [
    "df_tweet_time.dropna(inplace=True)"
   ]
  },
  {
   "cell_type": "code",
   "execution_count": 8,
   "metadata": {
    "collapsed": false
   },
   "outputs": [
    {
     "data": {
      "text/plain": [
       "0   2019-05-27 11:49:14+00:00\n",
       "1   2019-05-27 11:49:18+00:00\n",
       "2   2019-05-27 11:49:06+00:00\n",
       "3   2019-05-27 11:49:22+00:00\n",
       "4   2019-05-27 11:49:23+00:00\n",
       "Name: timestamp, dtype: datetime64[ns, UTC]"
      ]
     },
     "execution_count": 8,
     "metadata": {},
     "output_type": "execute_result"
    }
   ],
   "source": [
    "df_tweet_time.head()"
   ]
  },
  {
   "cell_type": "code",
   "execution_count": 9,
   "metadata": {
    "collapsed": false
   },
   "outputs": [
    {
     "name": "stdout",
     "output_type": "stream",
     "text": [
      "2007-04-19 07:14:38+00:00 2019-11-23 15:45:57+00:00\n"
     ]
    }
   ],
   "source": [
    "first_date_tweet = df_tweet_time.min()\n",
    "last_date_tweet = df_tweet_time.max()\n",
    "print(first_date_tweet, last_date_tweet)"
   ]
  },
  {
   "cell_type": "code",
   "execution_count": 10,
   "metadata": {
    "collapsed": false
   },
   "outputs": [
    {
     "name": "stderr",
     "output_type": "stream",
     "text": [
      "C:\\Users\\Tom Bourjala\\AppData\\Local\\Temp\\ipykernel_11624\\2587676585.py:3: FutureWarning: The behavior of DatetimeProperties.to_pydatetime is deprecated, in a future version this will return a Series containing python datetime objects instead of an ndarray. To retain the old behavior, call `np.array` on the result\n",
      "  df_tweet_time_py = df_tweet_time_tz_naive.dt.to_pydatetime()\n"
     ]
    }
   ],
   "source": [
    "# convert to timezone naive and then to python datetime\n",
    "df_tweet_time_tz_naive = df_tweet_time.dt.tz_localize(None)\n",
    "df_tweet_time_py = df_tweet_time_tz_naive.dt.to_pydatetime()"
   ]
  },
  {
   "cell_type": "code",
   "execution_count": 11,
   "metadata": {
    "collapsed": false
   },
   "outputs": [
    {
     "data": {
      "image/png": "[encoded data removed]",
      "text/plain": [
       "<Figure size 1500x700 with 1 Axes>"
      ]
     },
     "metadata": {},
     "output_type": "display_data"
    }
   ],
   "source": [
    "import matplotlib.pyplot as plt\n",
    "import matplotlib.dates as mdates\n",
    "import numpy as np\n",
    "import pandas as pd\n",
    "\n",
    "# Assuming df_tweet_time_py contains your datetime data\n",
    "df = pd.DataFrame(df_tweet_time_py, columns=[\"Date\"])\n",
    "df[\"Date\"] = pd.to_datetime(df[\"Date\"])\n",
    "df[\"Year_Half\"] = df[\"Date\"].dt.year.astype(str) + \"-\" + (2 * (df[\"Date\"].dt.month > 6) + 1).astype(str)\n",
    "\n",
    "grouped_dates = df.groupby(\"Year_Half\").size().cumsum()\n",
    "\n",
    "fig, ax = plt.subplots(figsize=(15, 7))\n",
    "\n",
    "ax.plot(grouped_dates.index, grouped_dates.values, color='royalblue', drawstyle='steps-post')\n",
    "ax.set_title(\"Cumulative Distribution by 6-Month Periods\")\n",
    "ax.set_xlabel(\"6-Month Period\")\n",
    "ax.set_ylabel(\"CDF\")\n",
    "plt.xticks(rotation=45)\n",
    "\n",
    "plt.tight_layout()\n",
    "plt.show()"
   ]
  },
  {
   "cell_type": "code",
   "execution_count": 12,
   "metadata": {
    "collapsed": false
   },
   "outputs": [],
   "source": [
    "# make both dataframes on the same date format\n",
    "df_btc_timestamp = pd.to_datetime(df_btc['Timestamp'], unit='s').dt.tz_localize('UTC')\n",
    "df_tweet_timestamp = pd.to_datetime(df_tweet['timestamp'], utc=True)"
   ]
  },
  {
   "cell_type": "code",
   "execution_count": 13,
   "metadata": {
    "collapsed": false
   },
   "outputs": [],
   "source": [
    "# update date format for both dataframes\n",
    "df_btc_time_fix = df_btc.copy()\n",
    "df_btc_time_fix['Timestamp'] = df_btc_timestamp.dt.strftime('%Y-%m-%d %H:%M:%S')\n",
    "df_tweet_time_fix = df_tweet.copy()\n",
    "df_tweet_time_fix['timestamp'] = df_tweet_timestamp.dt.strftime('%Y-%m-%d %H:%M:%S')"
   ]
  },
  {
   "cell_type": "code",
   "execution_count": 14,
   "metadata": {
    "collapsed": false
   },
   "outputs": [
    {
     "data": {
      "text/html": [
       "<div>\n",
       "<style scoped>\n",
       "    .dataframe tbody tr th:only-of-type {\n",
       "        vertical-align: middle;\n",
       "    }\n",
       "\n",
       "    .dataframe tbody tr th {\n",
       "        vertical-align: top;\n",
       "    }\n",
       "\n",
       "    .dataframe thead th {\n",
       "        text-align: right;\n",
       "    }\n",
       "</style>\n",
       "<table border=\"1\" class=\"dataframe\">\n",
       "  <thead>\n",
       "    <tr style=\"text-align: right;\">\n",
       "      <th></th>\n",
       "      <th>Timestamp</th>\n",
       "      <th>Open</th>\n",
       "      <th>High</th>\n",
       "      <th>Low</th>\n",
       "      <th>Close</th>\n",
       "      <th>Volume_(BTC)</th>\n",
       "      <th>Volume_(Currency)</th>\n",
       "      <th>Weighted_Price</th>\n",
       "    </tr>\n",
       "  </thead>\n",
       "  <tbody>\n",
       "    <tr>\n",
       "      <th>0</th>\n",
       "      <td>2011-12-31 07:52:00</td>\n",
       "      <td>4.39</td>\n",
       "      <td>4.39</td>\n",
       "      <td>4.39</td>\n",
       "      <td>4.39</td>\n",
       "      <td>0.455581</td>\n",
       "      <td>2.0</td>\n",
       "      <td>4.39</td>\n",
       "    </tr>\n",
       "    <tr>\n",
       "      <th>1</th>\n",
       "      <td>2011-12-31 07:53:00</td>\n",
       "      <td>NaN</td>\n",
       "      <td>NaN</td>\n",
       "      <td>NaN</td>\n",
       "      <td>NaN</td>\n",
       "      <td>NaN</td>\n",
       "      <td>NaN</td>\n",
       "      <td>NaN</td>\n",
       "    </tr>\n",
       "    <tr>\n",
       "      <th>2</th>\n",
       "      <td>2011-12-31 07:54:00</td>\n",
       "      <td>NaN</td>\n",
       "      <td>NaN</td>\n",
       "      <td>NaN</td>\n",
       "      <td>NaN</td>\n",
       "      <td>NaN</td>\n",
       "      <td>NaN</td>\n",
       "      <td>NaN</td>\n",
       "    </tr>\n",
       "    <tr>\n",
       "      <th>3</th>\n",
       "      <td>2011-12-31 07:55:00</td>\n",
       "      <td>NaN</td>\n",
       "      <td>NaN</td>\n",
       "      <td>NaN</td>\n",
       "      <td>NaN</td>\n",
       "      <td>NaN</td>\n",
       "      <td>NaN</td>\n",
       "      <td>NaN</td>\n",
       "    </tr>\n",
       "    <tr>\n",
       "      <th>4</th>\n",
       "      <td>2011-12-31 07:56:00</td>\n",
       "      <td>NaN</td>\n",
       "      <td>NaN</td>\n",
       "      <td>NaN</td>\n",
       "      <td>NaN</td>\n",
       "      <td>NaN</td>\n",
       "      <td>NaN</td>\n",
       "      <td>NaN</td>\n",
       "    </tr>\n",
       "  </tbody>\n",
       "</table>\n",
       "</div>"
      ],
      "text/plain": [
       "             Timestamp  Open  High   Low  Close  Volume_(BTC)  \\\n",
       "0  2011-12-31 07:52:00  4.39  4.39  4.39   4.39      0.455581   \n",
       "1  2011-12-31 07:53:00   NaN   NaN   NaN    NaN           NaN   \n",
       "2  2011-12-31 07:54:00   NaN   NaN   NaN    NaN           NaN   \n",
       "3  2011-12-31 07:55:00   NaN   NaN   NaN    NaN           NaN   \n",
       "4  2011-12-31 07:56:00   NaN   NaN   NaN    NaN           NaN   \n",
       "\n",
       "   Volume_(Currency)  Weighted_Price  \n",
       "0                2.0            4.39  \n",
       "1                NaN             NaN  \n",
       "2                NaN             NaN  \n",
       "3                NaN             NaN  \n",
       "4                NaN             NaN  "
      ]
     },
     "execution_count": 14,
     "metadata": {},
     "output_type": "execute_result"
    }
   ],
   "source": [
    "df_btc_time_fix.head()"
   ]
  },
  {
   "cell_type": "code",
   "execution_count": 15,
   "metadata": {
    "collapsed": false
   },
   "outputs": [
    {
     "data": {
      "text/html": [
       "<div>\n",
       "<style scoped>\n",
       "    .dataframe tbody tr th:only-of-type {\n",
       "        vertical-align: middle;\n",
       "    }\n",
       "\n",
       "    .dataframe tbody tr th {\n",
       "        vertical-align: top;\n",
       "    }\n",
       "\n",
       "    .dataframe thead th {\n",
       "        text-align: right;\n",
       "    }\n",
       "</style>\n",
       "<table border=\"1\" class=\"dataframe\">\n",
       "  <thead>\n",
       "    <tr style=\"text-align: right;\">\n",
       "      <th></th>\n",
       "      <th>id</th>\n",
       "      <th>user</th>\n",
       "      <th>fullname</th>\n",
       "      <th>url</th>\n",
       "      <th>timestamp</th>\n",
       "      <th>replies</th>\n",
       "      <th>likes</th>\n",
       "      <th>retweets</th>\n",
       "      <th>text</th>\n",
       "    </tr>\n",
       "  </thead>\n",
       "  <tbody>\n",
       "    <tr>\n",
       "      <th>0</th>\n",
       "      <td>1132977055300300800</td>\n",
       "      <td>KamdemAbdiel</td>\n",
       "      <td>Abdiel kamdem</td>\n",
       "      <td>NaN</td>\n",
       "      <td>2019-05-27 11:49:14</td>\n",
       "      <td>0.0</td>\n",
       "      <td>0.0</td>\n",
       "      <td>0.0</td>\n",
       "      <td>È appena uscito un nuovo video! LES CRYPTOMONN...</td>\n",
       "    </tr>\n",
       "    <tr>\n",
       "      <th>1</th>\n",
       "      <td>1132977073402736640</td>\n",
       "      <td>bitcointe</td>\n",
       "      <td>Bitcointe</td>\n",
       "      <td>NaN</td>\n",
       "      <td>2019-05-27 11:49:18</td>\n",
       "      <td>0.0</td>\n",
       "      <td>0.0</td>\n",
       "      <td>0.0</td>\n",
       "      <td>Cardano: Digitize Currencies; EOS https://t.co...</td>\n",
       "    </tr>\n",
       "    <tr>\n",
       "      <th>2</th>\n",
       "      <td>1132977023893139456</td>\n",
       "      <td>3eyedbran</td>\n",
       "      <td>Bran - 3 Eyed Raven</td>\n",
       "      <td>NaN</td>\n",
       "      <td>2019-05-27 11:49:06</td>\n",
       "      <td>0.0</td>\n",
       "      <td>2.0</td>\n",
       "      <td>1.0</td>\n",
       "      <td>Another Test tweet that wasn't caught in the s...</td>\n",
       "    </tr>\n",
       "    <tr>\n",
       "      <th>3</th>\n",
       "      <td>1132977089089556481</td>\n",
       "      <td>DetroitCrypto</td>\n",
       "      <td>J. Scardina</td>\n",
       "      <td>NaN</td>\n",
       "      <td>2019-05-27 11:49:22</td>\n",
       "      <td>0.0</td>\n",
       "      <td>0.0</td>\n",
       "      <td>0.0</td>\n",
       "      <td>Current Crypto Prices! \\n\\nBTC: $8721.99 USD\\n...</td>\n",
       "    </tr>\n",
       "    <tr>\n",
       "      <th>4</th>\n",
       "      <td>1132977092340191232</td>\n",
       "      <td>mmursaleen72</td>\n",
       "      <td>Muhammad Mursaleen</td>\n",
       "      <td>NaN</td>\n",
       "      <td>2019-05-27 11:49:23</td>\n",
       "      <td>0.0</td>\n",
       "      <td>0.0</td>\n",
       "      <td>0.0</td>\n",
       "      <td>Spiv (Nosar Baz): BITCOIN Is An Asset &amp;amp; NO...</td>\n",
       "    </tr>\n",
       "  </tbody>\n",
       "</table>\n",
       "</div>"
      ],
      "text/plain": [
       "                    id           user             fullname  url  \\\n",
       "0  1132977055300300800   KamdemAbdiel        Abdiel kamdem  NaN   \n",
       "1  1132977073402736640      bitcointe            Bitcointe  NaN   \n",
       "2  1132977023893139456      3eyedbran  Bran - 3 Eyed Raven  NaN   \n",
       "3  1132977089089556481  DetroitCrypto          J. Scardina  NaN   \n",
       "4  1132977092340191232   mmursaleen72   Muhammad Mursaleen  NaN   \n",
       "\n",
       "             timestamp  replies  likes  retweets  \\\n",
       "0  2019-05-27 11:49:14      0.0    0.0       0.0   \n",
       "1  2019-05-27 11:49:18      0.0    0.0       0.0   \n",
       "2  2019-05-27 11:49:06      0.0    2.0       1.0   \n",
       "3  2019-05-27 11:49:22      0.0    0.0       0.0   \n",
       "4  2019-05-27 11:49:23      0.0    0.0       0.0   \n",
       "\n",
       "                                                text  \n",
       "0  È appena uscito un nuovo video! LES CRYPTOMONN...  \n",
       "1  Cardano: Digitize Currencies; EOS https://t.co...  \n",
       "2  Another Test tweet that wasn't caught in the s...  \n",
       "3  Current Crypto Prices! \\n\\nBTC: $8721.99 USD\\n...  \n",
       "4  Spiv (Nosar Baz): BITCOIN Is An Asset &amp; NO...  "
      ]
     },
     "execution_count": 15,
     "metadata": {},
     "output_type": "execute_result"
    }
   ],
   "source": [
    "df_tweet_time_fix.head()"
   ]
  },
  {
   "cell_type": "code",
   "execution_count": 16,
   "metadata": {
    "collapsed": false
   },
   "outputs": [],
   "source": [
    "# remove all tweets and btc prices before 2016-01-01 and after 2019-03-29\n",
    "df_btc_framed = df_btc_time_fix[(df_btc_time_fix['Timestamp'] >= '2016-01-01') & (df_btc_time_fix['Timestamp'] <= '2019-03-29')]\n",
    "df_tweet_framed = df_tweet_time_fix[(df_tweet_time_fix['timestamp'] >= '2016-01-01') & (df_tweet_time_fix['timestamp'] <= '2019-03-29')]"
   ]
  },
  {
   "cell_type": "code",
   "execution_count": 17,
   "metadata": {
    "collapsed": false
   },
   "outputs": [
    {
     "name": "stdout",
     "output_type": "stream",
     "text": [
      "2016-01-01 00:00:00 2019-03-28 23:59:00\n"
     ]
    }
   ],
   "source": [
    "first_date_btc = df_btc_framed['Timestamp'].min()\n",
    "last_date_btc = df_btc_framed['Timestamp'].max()\n",
    "print(first_date_btc, last_date_btc)"
   ]
  },
  {
   "cell_type": "code",
   "execution_count": 18,
   "metadata": {
    "collapsed": false
   },
   "outputs": [
    {
     "name": "stdout",
     "output_type": "stream",
     "text": [
      "2016-01-01 00:00:04 2019-03-28 23:59:10\n"
     ]
    }
   ],
   "source": [
    "first_date_tweet = df_tweet_framed['timestamp'].min()\n",
    "last_date_tweet = df_tweet_framed['timestamp'].max()\n",
    "print(first_date_tweet, last_date_tweet)"
   ]
  },
  {
   "cell_type": "code",
   "execution_count": 19,
   "metadata": {
    "collapsed": false
   },
   "outputs": [
    {
     "data": {
      "image/png": "[encoded data removed]",
      "text/plain": [
       "<Figure size 640x480 with 1 Axes>"
      ]
     },
     "metadata": {},
     "output_type": "display_data"
    }
   ],
   "source": [
    "# Graph displaying the proportion of btc data points that contain any NaN value\n",
    "import matplotlib.pyplot as plt\n",
    "import matplotlib.dates as mdates\n",
    "import numpy as np\n",
    "import pandas as pd\n",
    "\n",
    "countains_nan = df_btc_framed.isnull().any(axis=1).sum()\n",
    "does_not_contain_nan = df_btc_framed.shape[0] - countains_nan\n",
    "\n",
    "labels = 'Contains NaN', 'Does not contain NaN'\n",
    "sizes = [countains_nan, does_not_contain_nan]\n",
    "explode = (0.1, 0)  # only \"explode\" the 1st slice (i.e. 'Contains NaN')\n",
    "\n",
    "fig1, ax1 = plt.subplots()\n",
    "ax1.pie(sizes, explode=explode, labels=labels, autopct='%1.1f%%',\n",
    "         shadow=True, startangle=90)\n",
    "ax1.axis('equal')  # Equal aspect ratio ensures that pie is drawn as a circle.\n",
    "\n",
    "plt.show()"
   ]
  },
  {
   "cell_type": "code",
   "execution_count": 20,
   "metadata": {
    "collapsed": false
   },
   "outputs": [
    {
     "data": {
      "text/html": [
       "<div>\n",
       "<style scoped>\n",
       "    .dataframe tbody tr th:only-of-type {\n",
       "        vertical-align: middle;\n",
       "    }\n",
       "\n",
       "    .dataframe tbody tr th {\n",
       "        vertical-align: top;\n",
       "    }\n",
       "\n",
       "    .dataframe thead th {\n",
       "        text-align: right;\n",
       "    }\n",
       "</style>\n",
       "<table border=\"1\" class=\"dataframe\">\n",
       "  <thead>\n",
       "    <tr style=\"text-align: right;\">\n",
       "      <th></th>\n",
       "      <th>Timestamp</th>\n",
       "      <th>Open</th>\n",
       "      <th>High</th>\n",
       "      <th>Low</th>\n",
       "      <th>Close</th>\n",
       "      <th>Volume_(BTC)</th>\n",
       "      <th>Volume_(Currency)</th>\n",
       "      <th>Weighted_Price</th>\n",
       "    </tr>\n",
       "  </thead>\n",
       "  <tbody>\n",
       "    <tr>\n",
       "      <th>2098336</th>\n",
       "      <td>2016-01-01 00:00:00</td>\n",
       "      <td>NaN</td>\n",
       "      <td>NaN</td>\n",
       "      <td>NaN</td>\n",
       "      <td>NaN</td>\n",
       "      <td>NaN</td>\n",
       "      <td>NaN</td>\n",
       "      <td>NaN</td>\n",
       "    </tr>\n",
       "    <tr>\n",
       "      <th>2098339</th>\n",
       "      <td>2016-01-01 00:03:00</td>\n",
       "      <td>NaN</td>\n",
       "      <td>NaN</td>\n",
       "      <td>NaN</td>\n",
       "      <td>NaN</td>\n",
       "      <td>NaN</td>\n",
       "      <td>NaN</td>\n",
       "      <td>NaN</td>\n",
       "    </tr>\n",
       "    <tr>\n",
       "      <th>2098346</th>\n",
       "      <td>2016-01-01 00:10:00</td>\n",
       "      <td>NaN</td>\n",
       "      <td>NaN</td>\n",
       "      <td>NaN</td>\n",
       "      <td>NaN</td>\n",
       "      <td>NaN</td>\n",
       "      <td>NaN</td>\n",
       "      <td>NaN</td>\n",
       "    </tr>\n",
       "    <tr>\n",
       "      <th>2098350</th>\n",
       "      <td>2016-01-01 00:14:00</td>\n",
       "      <td>NaN</td>\n",
       "      <td>NaN</td>\n",
       "      <td>NaN</td>\n",
       "      <td>NaN</td>\n",
       "      <td>NaN</td>\n",
       "      <td>NaN</td>\n",
       "      <td>NaN</td>\n",
       "    </tr>\n",
       "    <tr>\n",
       "      <th>2098353</th>\n",
       "      <td>2016-01-01 00:17:00</td>\n",
       "      <td>NaN</td>\n",
       "      <td>NaN</td>\n",
       "      <td>NaN</td>\n",
       "      <td>NaN</td>\n",
       "      <td>NaN</td>\n",
       "      <td>NaN</td>\n",
       "      <td>NaN</td>\n",
       "    </tr>\n",
       "  </tbody>\n",
       "</table>\n",
       "</div>"
      ],
      "text/plain": [
       "                   Timestamp  Open  High  Low  Close  Volume_(BTC)  \\\n",
       "2098336  2016-01-01 00:00:00   NaN   NaN  NaN    NaN           NaN   \n",
       "2098339  2016-01-01 00:03:00   NaN   NaN  NaN    NaN           NaN   \n",
       "2098346  2016-01-01 00:10:00   NaN   NaN  NaN    NaN           NaN   \n",
       "2098350  2016-01-01 00:14:00   NaN   NaN  NaN    NaN           NaN   \n",
       "2098353  2016-01-01 00:17:00   NaN   NaN  NaN    NaN           NaN   \n",
       "\n",
       "         Volume_(Currency)  Weighted_Price  \n",
       "2098336                NaN             NaN  \n",
       "2098339                NaN             NaN  \n",
       "2098346                NaN             NaN  \n",
       "2098350                NaN             NaN  \n",
       "2098353                NaN             NaN  "
      ]
     },
     "execution_count": 20,
     "metadata": {},
     "output_type": "execute_result"
    }
   ],
   "source": [
    "# All NaN rows\n",
    "nan_rows = df_btc_framed[df_btc_framed.isnull().any(axis=1)]\n",
    "nan_rows.head()"
   ]
  },
  {
   "cell_type": "code",
   "execution_count": 21,
   "metadata": {
    "collapsed": false
   },
   "outputs": [
    {
     "name": "stderr",
     "output_type": "stream",
     "text": [
      "C:\\Users\\Tom Bourjala\\AppData\\Local\\Temp\\ipykernel_11624\\3187476231.py:2: SettingWithCopyWarning: \n",
      "A value is trying to be set on a copy of a slice from a DataFrame\n",
      "\n",
      "See the caveats in the documentation: https://pandas.pydata.org/pandas-docs/stable/user_guide/indexing.html#returning-a-view-versus-a-copy\n",
      "  df_btc_framed.dropna(inplace=True)\n"
     ]
    },
    {
     "data": {
      "text/plain": [
       "0"
      ]
     },
     "execution_count": 21,
     "metadata": {},
     "output_type": "execute_result"
    }
   ],
   "source": [
    "# All columns here are with NaN values. Let's drop every row with NaN values\n",
    "df_btc_framed.dropna(inplace=True)\n",
    "nan_rows_no = df_btc_framed[df_btc_framed.isnull().any(axis=1)]\n",
    "len(nan_rows_no)"
   ]
  },
  {
   "cell_type": "code",
   "execution_count": 22,
   "metadata": {},
   "outputs": [
    {
     "name": "stderr",
     "output_type": "stream",
     "text": [
      "C:\\Users\\Tom Bourjala\\AppData\\Local\\Temp\\ipykernel_11624\\3198469984.py:2: SettingWithCopyWarning: \n",
      "A value is trying to be set on a copy of a slice from a DataFrame\n",
      "\n",
      "See the caveats in the documentation: https://pandas.pydata.org/pandas-docs/stable/user_guide/indexing.html#returning-a-view-versus-a-copy\n",
      "  df_btc_framed.sort_values(by=['Timestamp'], inplace=True)\n",
      "C:\\Users\\Tom Bourjala\\AppData\\Local\\Temp\\ipykernel_11624\\3198469984.py:3: SettingWithCopyWarning: \n",
      "A value is trying to be set on a copy of a slice from a DataFrame\n",
      "\n",
      "See the caveats in the documentation: https://pandas.pydata.org/pandas-docs/stable/user_guide/indexing.html#returning-a-view-versus-a-copy\n",
      "  df_tweet_framed.sort_values(by=['timestamp'], inplace=True)\n"
     ]
    }
   ],
   "source": [
    "# Order the dataframes by date\n",
    "df_btc_framed.sort_values(by=['Timestamp'], inplace=True)\n",
    "df_tweet_framed.sort_values(by=['timestamp'], inplace=True)"
   ]
  },
  {
   "cell_type": "code",
   "execution_count": 23,
   "metadata": {
    "collapsed": false
   },
   "outputs": [],
   "source": [
    "# Save the new dataframes to csv\n",
    "df_btc_framed.to_csv('./btc.csv', index=False)\n",
    "df_tweet_framed.to_csv('./tweets.csv', index=False)"
   ]
  }
 ],
 "metadata": {
  "kernelspec": {
   "display_name": "Python 3",
   "language": "python",
   "name": "python3"
  },
  "language_info": {
   "codemirror_mode": {
    "name": "ipython",
    "version": 3
   },
   "file_extension": ".py",
   "mimetype": "text/x-python",
   "name": "python",
   "nbconvert_exporter": "python",
   "pygments_lexer": "ipython3",
   "version": "3.11.6"
  }
 },
 "nbformat": 4,
 "nbformat_minor": 0
}
